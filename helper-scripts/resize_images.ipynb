{
 "cells": [
  {
   "cell_type": "code",
   "execution_count": 1,
   "metadata": {},
   "outputs": [],
   "source": [
    "import os\n",
    "from PIL import Image"
   ]
  },
  {
   "cell_type": "code",
   "execution_count": 10,
   "metadata": {},
   "outputs": [
    {
     "name": "stdout",
     "output_type": "stream",
     "text": [
      "79\n"
     ]
    }
   ],
   "source": [
    "src = '/home/sid/code/calibration_code/calibration'\n",
    "subdirs = [x[0] for x in os.walk(src)]\n",
    "rgb_dirs = [x for x in subdirs if x.endswith('rgb')]\n",
    "omni_dirs = [x for x in subdirs if x.endswith('omni')]"
   ]
  },
  {
   "cell_type": "code",
   "execution_count": null,
   "metadata": {},
   "outputs": [],
   "source": [
    "def crop_image(img, actual_width=512, actual_height=424):\n",
    "    # Crop image to remove black borders - Function for omnidirectional images\n",
    "    left_width = (img.width - actual_width) // 2\n",
    "    right_width = top_x + actual_width\n",
    "\n",
    "    top_height = (img.height - actual_height) // 2\n",
    "    bottom_height = top_y + actual_height\n",
    "\n",
    "    img = img.crop((left_width, top_height, right_width, bottom_height))\n",
    "    return img\n",
    "\n",
    "\n",
    "def resize_image(img, type='rgb'):\n",
    "    # Resize RGB images to 1280x720\n",
    "    # Resize Omni images to 1900x something\n",
    "    if type == 'rgb':\n",
    "        if img.size != (1280, 720):\n",
    "            img = img.thumbnail((1280, 720),Image.ANTIALIAS) # Apparently preserves aspect ratio (need to test)\n",
    "            # img = img.resize((1280, 720), Image.ANTIALIAS)\n",
    "\n",
    "    elif type == 'omni':\n",
    "        img = crop_image(img, actual_width=1200, actual_height=900)\n",
    "    \n",
    "    elif type == 'depth':\n",
    "        if img.size != (512, 424):\n",
    "            img = img.thumbnail((512, 424), Image.ANTIALIAS)\n",
    "\n",
    "    elif type == 'ir':\n",
    "        img = crop_image(img, actual_width=1200, actual_height=900)\n",
    "        # img = img.resize((512, 424), Image.ANTIALIAS)\n",
    "\n",
    "    else:\n",
    "        raise ValueError('Invalid image type')\n",
    "\n",
    "    return img"
   ]
  },
  {
   "cell_type": "code",
   "execution_count": 11,
   "metadata": {},
   "outputs": [
    {
     "data": {
      "text/plain": [
       "['/home/sid/code/calibration_code/calibration',\n",
       " '/home/sid/code/calibration_code/calibration/calibration',\n",
       " '/home/sid/code/calibration_code/calibration/sync',\n",
       " '/home/sid/code/calibration_code/calibration/docs',\n",
       " '/home/sid/code/calibration_code/calibration/.git',\n",
       " '/home/sid/code/calibration_code/calibration/.git/info',\n",
       " '/home/sid/code/calibration_code/calibration/.git/logs',\n",
       " '/home/sid/code/calibration_code/calibration/.git/logs/refs',\n",
       " '/home/sid/code/calibration_code/calibration/.git/logs/refs/remotes',\n",
       " '/home/sid/code/calibration_code/calibration/.git/logs/refs/remotes/origin',\n",
       " '/home/sid/code/calibration_code/calibration/.git/logs/refs/heads',\n",
       " '/home/sid/code/calibration_code/calibration/.git/branches',\n",
       " '/home/sid/code/calibration_code/calibration/.git/objects',\n",
       " '/home/sid/code/calibration_code/calibration/.git/objects/56',\n",
       " '/home/sid/code/calibration_code/calibration/.git/objects/a3',\n",
       " '/home/sid/code/calibration_code/calibration/.git/objects/b1',\n",
       " '/home/sid/code/calibration_code/calibration/.git/objects/1b',\n",
       " '/home/sid/code/calibration_code/calibration/.git/objects/3a',\n",
       " '/home/sid/code/calibration_code/calibration/.git/objects/a6',\n",
       " '/home/sid/code/calibration_code/calibration/.git/objects/49',\n",
       " '/home/sid/code/calibration_code/calibration/.git/objects/b5',\n",
       " '/home/sid/code/calibration_code/calibration/.git/objects/b7',\n",
       " '/home/sid/code/calibration_code/calibration/.git/objects/4e',\n",
       " '/home/sid/code/calibration_code/calibration/.git/objects/53',\n",
       " '/home/sid/code/calibration_code/calibration/.git/objects/86',\n",
       " '/home/sid/code/calibration_code/calibration/.git/objects/5a',\n",
       " '/home/sid/code/calibration_code/calibration/.git/objects/f9',\n",
       " '/home/sid/code/calibration_code/calibration/.git/objects/0c',\n",
       " '/home/sid/code/calibration_code/calibration/.git/objects/ca',\n",
       " '/home/sid/code/calibration_code/calibration/.git/objects/cc',\n",
       " '/home/sid/code/calibration_code/calibration/.git/objects/1c',\n",
       " '/home/sid/code/calibration_code/calibration/.git/objects/d0',\n",
       " '/home/sid/code/calibration_code/calibration/.git/objects/2a',\n",
       " '/home/sid/code/calibration_code/calibration/.git/objects/46',\n",
       " '/home/sid/code/calibration_code/calibration/.git/objects/8c',\n",
       " '/home/sid/code/calibration_code/calibration/.git/objects/e9',\n",
       " '/home/sid/code/calibration_code/calibration/.git/objects/info',\n",
       " '/home/sid/code/calibration_code/calibration/.git/objects/6a',\n",
       " '/home/sid/code/calibration_code/calibration/.git/objects/ba',\n",
       " '/home/sid/code/calibration_code/calibration/.git/objects/a1',\n",
       " '/home/sid/code/calibration_code/calibration/.git/objects/c5',\n",
       " '/home/sid/code/calibration_code/calibration/.git/objects/f7',\n",
       " '/home/sid/code/calibration_code/calibration/.git/objects/9b',\n",
       " '/home/sid/code/calibration_code/calibration/.git/objects/35',\n",
       " '/home/sid/code/calibration_code/calibration/.git/objects/b6',\n",
       " '/home/sid/code/calibration_code/calibration/.git/objects/03',\n",
       " '/home/sid/code/calibration_code/calibration/.git/objects/84',\n",
       " '/home/sid/code/calibration_code/calibration/.git/objects/8b',\n",
       " '/home/sid/code/calibration_code/calibration/.git/objects/3f',\n",
       " '/home/sid/code/calibration_code/calibration/.git/objects/0a',\n",
       " '/home/sid/code/calibration_code/calibration/.git/objects/6c',\n",
       " '/home/sid/code/calibration_code/calibration/.git/objects/83',\n",
       " '/home/sid/code/calibration_code/calibration/.git/objects/fc',\n",
       " '/home/sid/code/calibration_code/calibration/.git/objects/bc',\n",
       " '/home/sid/code/calibration_code/calibration/.git/objects/e8',\n",
       " '/home/sid/code/calibration_code/calibration/.git/objects/fe',\n",
       " '/home/sid/code/calibration_code/calibration/.git/objects/12',\n",
       " '/home/sid/code/calibration_code/calibration/.git/objects/pack',\n",
       " '/home/sid/code/calibration_code/calibration/.git/objects/de',\n",
       " '/home/sid/code/calibration_code/calibration/.git/objects/0b',\n",
       " '/home/sid/code/calibration_code/calibration/.git/objects/e5',\n",
       " '/home/sid/code/calibration_code/calibration/.git/objects/33',\n",
       " '/home/sid/code/calibration_code/calibration/.git/objects/95',\n",
       " '/home/sid/code/calibration_code/calibration/.git/objects/40',\n",
       " '/home/sid/code/calibration_code/calibration/.git/objects/f0',\n",
       " '/home/sid/code/calibration_code/calibration/.git/objects/85',\n",
       " '/home/sid/code/calibration_code/calibration/.git/objects/f1',\n",
       " '/home/sid/code/calibration_code/calibration/.git/objects/c6',\n",
       " '/home/sid/code/calibration_code/calibration/.git/objects/42',\n",
       " '/home/sid/code/calibration_code/calibration/.git/hooks',\n",
       " '/home/sid/code/calibration_code/calibration/.git/refs',\n",
       " '/home/sid/code/calibration_code/calibration/.git/refs/remotes',\n",
       " '/home/sid/code/calibration_code/calibration/.git/refs/remotes/origin',\n",
       " '/home/sid/code/calibration_code/calibration/.git/refs/tags',\n",
       " '/home/sid/code/calibration_code/calibration/.git/refs/heads',\n",
       " '/home/sid/code/calibration_code/calibration/helper-scripts',\n",
       " '/home/sid/code/calibration_code/calibration/capture',\n",
       " '/home/sid/code/calibration_code/calibration/reproject',\n",
       " '/home/sid/code/calibration_code/calibration/.vscode']"
      ]
     },
     "execution_count": 11,
     "metadata": {},
     "output_type": "execute_result"
    }
   ],
   "source": [
    "for dir in rgb_dirs:    \n",
    "    dst = os.path.join(dir, 'resized')\n",
    "    if not os.path.isdir(dst):\n",
    "        os.mkdir(dst)\n",
    "    files = [x for x in os.listdir(dir) if x.endswith('.jpg')]\n",
    "    for file in files:\n",
    "        img = Image.open(os.path.join(dir, file))\n",
    "        img = resize_image(img)"
   ]
  },
  {
   "cell_type": "code",
   "execution_count": null,
   "metadata": {},
   "outputs": [],
   "source": []
  }
 ],
 "metadata": {
  "kernelspec": {
   "display_name": "Python 3.6.13 ('3dmpp')",
   "language": "python",
   "name": "python3"
  },
  "language_info": {
   "codemirror_mode": {
    "name": "ipython",
    "version": 3
   },
   "file_extension": ".py",
   "mimetype": "text/x-python",
   "name": "python",
   "nbconvert_exporter": "python",
   "pygments_lexer": "ipython3",
   "version": "3.6.13"
  },
  "orig_nbformat": 4,
  "vscode": {
   "interpreter": {
    "hash": "90a12f8e67e5df9b6d735e7ed43ed7f0cabd8d502959e0b05fb5f457b1896b96"
   }
  }
 },
 "nbformat": 4,
 "nbformat_minor": 2
}
