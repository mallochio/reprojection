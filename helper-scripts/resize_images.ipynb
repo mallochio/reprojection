{
 "cells": [
  {
   "cell_type": "code",
   "execution_count": null,
   "metadata": {},
   "outputs": [],
   "source": [
    "# Code to resize images to a specified size if required"
   ]
  },
  {
   "cell_type": "code",
   "execution_count": 12,
   "metadata": {},
   "outputs": [],
   "source": [
    "import os\n",
    "from PIL import Image"
   ]
  },
  {
   "cell_type": "code",
   "execution_count": 27,
   "metadata": {},
   "outputs": [],
   "source": [
    "src = \"/media/sid/Seagate Expansion Drive/old-recordings/calibration-images/common/calibration_images_common_from_drive/kinect0/stereo-calibration/originals\"\n",
    "\n",
    "# src = '/media/sid/Seagate Expansion Drive/synchronization-images'\n",
    "subdirs = [x[0] for x in os.walk(src)]\n",
    "rgb_dirs = [x for x in subdirs if x.endswith('rgb')]\n",
    "omni_dirs = [x for x in subdirs if x.endswith('omni')]\n",
    "ir_dirs = [x for x in subdirs if x.endswith('ir')]\n",
    "depth_dirs = [x for x in subdirs if x.endswith('depth')]"
   ]
  },
  {
   "cell_type": "code",
   "execution_count": 28,
   "metadata": {},
   "outputs": [
    {
     "data": {
      "text/plain": [
       "[]"
      ]
     },
     "execution_count": 28,
     "metadata": {},
     "output_type": "execute_result"
    }
   ],
   "source": [
    "subdirs"
   ]
  },
  {
   "cell_type": "code",
   "execution_count": 24,
   "metadata": {},
   "outputs": [],
   "source": [
    "def add_borders_to_resize(img):\n",
    "    # Add borders to depth images to make them the same size as the rgb images\n",
    "    c, r = img.size\n",
    "    img = np.array(img)\n",
    "    depth_bigger = np.zeros((r, c, 3), dtype=np.uint8)\n",
    "    nr, nc = 424, 512\n",
    "    depthimg = cv2.merge((img,img,img))\n",
    "    depth_bigger[int(r/2-nr/2):int(r/2+nr/2), int(c/2-nc/2):int(c/2+nc/2)] = depthimg\n",
    "    return depth_bigger\n",
    "\n",
    "\n",
    "def crop_image(img, actual_width, actual_height):\n",
    "    # Crop image to remove black borders\n",
    "    left_width = (img.width - actual_width) // 2\n",
    "    right_width = left_width + actual_width\n",
    "\n",
    "    top_height = (img.height - actual_height) // 2\n",
    "    bottom_height = top_height + actual_height\n",
    "\n",
    "    img = img.crop((left_width, top_height, right_width, bottom_height))\n",
    "    return img\n",
    "    \n",
    "\n",
    "def resize_image(img, imgtype='rgb'):\n",
    "    # Resize RGB images to 1280x720\n",
    "    # Resize Omni images to 1900x something\n",
    "    if imgtype == 'rgb': \n",
    "        if img.size != (1280, 720):\n",
    "            img.thumbnail((1280, 720),Image.ANTIALIAS) # Apparently preserves aspect ratio (need to test)\n",
    "            return img\n",
    "            # img = img.resize((1280, 720), Image.ANTIALIAS)\n",
    "\n",
    "    elif imgtype == 'omni':\n",
    "        if img.size != (1200, 900):\n",
    "            img = crop_image(img, actual_width=1200, actual_height=900)\n",
    "            return img\n",
    "    \n",
    "    elif imgtype == 'depth' or imgtype == 'ir':\n",
    "        \n",
    "        if img.size != (1280, 720):\n",
    "            img = add_borders_to_resize(img)\n",
    "            # img = crop_image(img, actual_width=512, actual_height=424)\n",
    "            return img\n",
    "\n",
    "    else:\n",
    "        raise ValueError('Invalid image imgtype')\n",
    "\n",
    "    return None"
   ]
  },
  {
   "cell_type": "code",
   "execution_count": 25,
   "metadata": {},
   "outputs": [],
   "source": [
    "def resize_images_in_dir(dirs, imtype):\n",
    "    for dir in dirs: \n",
    "        filetype = dir.split('/')[-1]\n",
    "        # dst = os.path.join(dir, 'resized')\n",
    "        dst = '/media/sid/Seagate Expansion Drive/old-recordings/calibration-images/common/calibration_images_common_from_drive/kinect0/stereo-calibration/resized-for-matlab'\n",
    "        dst = os.path.join(dst, filetype)\n",
    "        if not os.path.isdir(dst):\n",
    "            os.mkdir(dst)\n",
    "        files = [x for x in os.listdir(dir) if x.endswith('.jpg')]\n",
    "        print(len(files))\n",
    "        for file in files:\n",
    "            img = Image.open(os.path.join(dir, file))\n",
    "            img = resize_image(img, imtype)\n",
    "            if img is not None:\n",
    "                img.save(os.path.join(dst, file))"
   ]
  },
  {
   "cell_type": "code",
   "execution_count": 26,
   "metadata": {},
   "outputs": [
    {
     "name": "stdout",
     "output_type": "stream",
     "text": [
      "resized ir images\n"
     ]
    }
   ],
   "source": [
    "# resize_images_in_dir(rgb_dirs, 'rgb')\n",
    "# print('resized rgb images')\n",
    "\n",
    "# resize_images_in_dir(omni_dirs, 'omni')\n",
    "# print('resized omni images')\n",
    "\n",
    "resize_images_in_dir(ir_dirs, 'ir')\n",
    "print('resized ir images')\n",
    "\n",
    "# resize_images_in_dir(depth_dirs, 'depth')\n",
    "# print('resized depth images')"
   ]
  },
  {
   "cell_type": "code",
   "execution_count": 11,
   "metadata": {},
   "outputs": [],
   "source": [
    "src = '/media/sid/Seagate Expansion Drive/calibration-images'\n",
    "subdirs = [x[0] for x in os.walk(src)]\n",
    "rgb_dirs = [x for x in subdirs if x.endswith('rgb')]\n",
    "omni_dirs = [x for x in subdirs if x.endswith('omni')]\n",
    "ir_dirs = [x for x in subdirs if x.endswith('ir')]\n",
    "depth_dirs = [x for x in subdirs if x.endswith('depth')]"
   ]
  },
  {
   "cell_type": "code",
   "execution_count": 12,
   "metadata": {},
   "outputs": [
    {
     "name": "stdout",
     "output_type": "stream",
     "text": [
      "resized rgb images\n",
      "resized omni images\n",
      "resized ir images\n",
      "resized depth images\n"
     ]
    }
   ],
   "source": [
    "resize_images_in_dir(rgb_dirs, 'rgb')\n",
    "print('resized rgb images')\n",
    "subdirs = [x[0] for x in os.walk(src)]\n",
    "resize_images_in_dir(ir_dirs, 'ir')\n",
    "print('resized ir images')\n",
    "\n",
    "resize_images_in_dir(depth_dirs, 'depth')\n",
    "print('resized depth images')"
   ]
  },
  {
   "cell_type": "code",
   "execution_count": 3,
   "metadata": {},
   "outputs": [],
   "source": [
    "src = '/media/sid/Seagate Expansion Drive/calibration-images'\n",
    "subdirs = [x[0] for x in os.walk(src)]\n",
    "omni_dirs = [x for x in subdirs if x.endswith('omni0')] + [x for x in subdirs if x.endswith('omni1')]"
   ]
  },
  {
   "cell_type": "code",
   "execution_count": 9,
   "metadata": {},
   "outputs": [
    {
     "name": "stdout",
     "output_type": "stream",
     "text": [
      "resized omni images\n"
     ]
    }
   ],
   "source": [
    "resize_images_in_dir(omni_dirs, 'omni')\n",
    "print('resized omni images')"
   ]
  },
  {
   "cell_type": "code",
   "execution_count": null,
   "metadata": {},
   "outputs": [],
   "source": [
    "# Search for folders in the main directory, \n",
    "# check if they have a resized folder,\n",
    "# if so, check the filenames in the two folders and switch them around"
   ]
  },
  {
   "cell_type": "code",
   "execution_count": null,
   "metadata": {},
   "outputs": [],
   "source": [
    "# Swap between resized and original images\n",
    "subdirs = [x[0] for x in os.walk(src)]\n",
    "for i in subdirs:\n",
    "    if i == 'resized':\n",
    "        src = '.'\n",
    "        dst = '../'\n",
    "        for file in os.listdir(i):"
   ]
  },
  {
   "cell_type": "code",
   "execution_count": null,
   "metadata": {},
   "outputs": [],
   "source": []
  }
 ],
 "metadata": {
  "kernelspec": {
   "display_name": "Python 3.6.13 ('3dmpp')",
   "language": "python",
   "name": "python3"
  },
  "language_info": {
   "codemirror_mode": {
    "name": "ipython",
    "version": 3
   },
   "file_extension": ".py",
   "mimetype": "text/x-python",
   "name": "python",
   "nbconvert_exporter": "python",
   "pygments_lexer": "ipython3",
   "version": "3.6.13"
  },
  "orig_nbformat": 4,
  "vscode": {
   "interpreter": {
    "hash": "90a12f8e67e5df9b6d735e7ed43ed7f0cabd8d502959e0b05fb5f457b1896b96"
   }
  }
 },
 "nbformat": 4,
 "nbformat_minor": 2
}
