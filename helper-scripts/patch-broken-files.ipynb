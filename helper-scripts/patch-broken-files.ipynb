{
 "cells": [
  {
   "cell_type": "code",
   "execution_count": null,
   "metadata": {},
   "outputs": [],
   "source": [
    "# Script used to check for broken files in directories"
   ]
  },
  {
   "cell_type": "code",
   "execution_count": 24,
   "metadata": {},
   "outputs": [],
   "source": [
    "import os\n",
    "import sys\n",
    "import shutil"
   ]
  },
  {
   "cell_type": "code",
   "execution_count": 25,
   "metadata": {},
   "outputs": [],
   "source": [
    "checkdirs = [\n",
    "    '/media/sid/Seagate Expansion Drive/pau-recording/session1/capture0/rgb',\n",
    "    '/media/sid/Seagate Expansion Drive/pau-recording/session1/capture1/rgb',\n",
    "    '/media/sid/Seagate Expansion Drive/pau-recording/session2/capture0/rgb',\n",
    "    '/media/sid/Seagate Expansion Drive/pau-recording/session2/capture1/rgb',\n",
    "    '/media/sid/Seagate Expansion Drive/aida-recording/session1/capture0/rgb',\n",
    "    '/media/sid/Seagate Expansion Drive/aida-recording/session1/capture1/rgb',\n",
    "    '/media/sid/Seagate Expansion Drive/aida-recording/session2/capture0/rgb',\n",
    "    '/media/sid/Seagate Expansion Drive/aida-recording/session2/capture1/rgb',\n",
    "    '/media/sid/Seagate Expansion Drive/pau-recording/session1/omni',   \n",
    "#     '/media/sid/Seagate Expansion Drive/pau-recording/session2/omni',\n",
    "] \n",
    "\n",
    "files = [\n",
    "    '/media/sid/Seagate Expansion Drive/synchronization-images/capture0/cap0_rgb_err.txt',\n",
    "    '/media/sid/Seagate Expansion Drive/synchronization-images/capture1/cap1_rgb_err.txt'\n",
    "]"
   ]
  },
  {
   "cell_type": "code",
   "execution_count": 26,
   "metadata": {},
   "outputs": [],
   "source": [
    "checkdict = {}\n",
    "for dir in checkdirs:\n",
    "    dirfiles = os.listdir(dir)\n",
    "    checkdict[dir] = dirfiles"
   ]
  },
  {
   "cell_type": "code",
   "execution_count": 36,
   "metadata": {},
   "outputs": [
    {
     "name": "stdout",
     "output_type": "stream",
     "text": [
      "/media/sid/Seagate Expansion Drive/synchronization-images/capture0/cap0_rgb_err.txt\n",
      "/media/sid/Seagate Expansion Drive/synchronization-images/capture1/cap1_rgb_err.txt\n"
     ]
    }
   ],
   "source": [
    "for filename in files:\n",
    "    print(filename)\n",
    "    dst = '/'.join(filename.split('/')[:-1]) \n",
    "    dst += '/rgb'\n",
    "\n",
    "    with open(filename) as file:\n",
    "        lines = file.readlines()\n",
    "        lines = [line.rstrip() for line in lines]\n",
    "        for line in lines:\n",
    "            for key in checkdict.keys():\n",
    "                if line in checkdict[key]:\n",
    "                    src = key + '/' + line\n",
    "                    try:\n",
    "                        shutil.copy(src, dst)\n",
    "                    except FileNotFoundError:\n",
    "                        continue\n",
    "\n",
    "            "
   ]
  },
  {
   "cell_type": "code",
   "execution_count": 33,
   "metadata": {},
   "outputs": [
    {
     "data": {
      "text/plain": [
       "True"
      ]
     },
     "execution_count": 33,
     "metadata": {},
     "output_type": "execute_result"
    }
   ],
   "source": [
    "'1643279512228.jpg' in checkdict['/media/sid/Seagate Expansion Drive/pau-recording/session2/capture0/rgb']"
   ]
  },
  {
   "cell_type": "code",
   "execution_count": null,
   "metadata": {},
   "outputs": [],
   "source": []
  }
 ],
 "metadata": {
  "interpreter": {
   "hash": "916dbcbb3f70747c44a77c7bcd40155683ae19c65e1c03b4aa3499c5328201f1"
  },
  "kernelspec": {
   "display_name": "Python 3.7.3 64-bit",
   "language": "python",
   "name": "python3"
  },
  "language_info": {
   "codemirror_mode": {
    "name": "ipython",
    "version": 3
   },
   "file_extension": ".py",
   "mimetype": "text/x-python",
   "name": "python",
   "nbconvert_exporter": "python",
   "pygments_lexer": "ipython3",
   "version": "3.8.10"
  },
  "orig_nbformat": 4
 },
 "nbformat": 4,
 "nbformat_minor": 2
}
