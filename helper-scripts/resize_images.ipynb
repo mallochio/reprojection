{
 "cells": [
  {
   "cell_type": "code",
   "execution_count": 1,
   "metadata": {},
   "outputs": [],
   "source": [
    "import os\n",
    "from PIL import Image"
   ]
  },
  {
   "cell_type": "code",
   "execution_count": 10,
   "metadata": {},
   "outputs": [
    {
     "name": "stdout",
     "output_type": "stream",
     "text": [
      "79\n"
     ]
    }
   ],
   "source": [
    "src = '/home/sid/code/calibration_code/calibration'\n",
    "subdirs = [x[0] for x in os.walk(src)]\n",
    "rgb_dirs = [x for x in subdirs if x.endswith('rgb')]\n",
    "omni_dirs = [x for x in subdirs if x.endswith('omni')]\n",
    "ir_dirs = [x for x in subdirs if x.endswith('ir')]\n",
    "depth_dirs = [x for x in subdirs if x.endswith('depth')]"
   ]
  },
  {
   "cell_type": "code",
   "execution_count": null,
   "metadata": {},
   "outputs": [],
   "source": [
    "def crop_image(img, actual_width=512, actual_height=424):\n",
    "    # Crop image to remove black borders - Function for omnidirectional images\n",
    "    left_width = (img.width - actual_width) // 2\n",
    "    right_width = top_x + actual_width\n",
    "\n",
    "    top_height = (img.height - actual_height) // 2\n",
    "    bottom_height = top_y + actual_height\n",
    "\n",
    "    img = img.crop((left_width, top_height, right_width, bottom_height))\n",
    "    return img\n",
    "    \n",
    "\n",
    "def resize_image(img, type='rgb'):\n",
    "    # Resize RGB images to 1280x720\n",
    "    # Resize Omni images to 1900x something\n",
    "    if type == 'rgb':\n",
    "        if img.size != (1280, 720):\n",
    "            img = img.thumbnail((1280, 720),Image.ANTIALIAS) # Apparently preserves aspect ratio (need to test)\n",
    "            # img = img.resize((1280, 720), Image.ANTIALIAS)\n",
    "\n",
    "    elif type == 'omni':\n",
    "        img = crop_image(img, actual_width=1200, actual_height=900)\n",
    "    \n",
    "    elif type == 'depth':\n",
    "        if img.size != (512, 424):\n",
    "            img = img.thumbnail((512, 424), Image.ANTIALIAS)\n",
    "\n",
    "    elif type == 'ir':\n",
    "        img = crop_image(img, actual_width=1200, actual_height=900)\n",
    "        # img = img.resize((512, 424), Image.ANTIALIAS)\n",
    "\n",
    "    else:\n",
    "        raise ValueError('Invalid image type')\n",
    "\n",
    "    return img"
   ]
  },
  {
   "cell_type": "code",
   "execution_count": 1,
   "metadata": {},
   "outputs": [],
   "source": [
    "def resize_images_in_dir(dirs):\n",
    "    for dir in dirs: \n",
    "        filetype = dir.split('/')[-1]\n",
    "        dst = os.path.join(dir, 'resized')\n",
    "        if not os.path.isdir(dst):\n",
    "            os.mkdir(dst)\n",
    "        files = [x for x in os.listdir(dir) if x.endswith('.jpg')]\n",
    "        for file in files:\n",
    "            img = Image.open(os.path.join(dir, file))\n",
    "            img = resize_image(img)"
   ]
  },
  {
   "cell_type": "code",
   "execution_count": null,
   "metadata": {},
   "outputs": [],
   "source": []
  }
 ],
 "metadata": {
  "kernelspec": {
   "display_name": "Python 3.6.13 ('3dmpp')",
   "language": "python",
   "name": "python3"
  },
  "language_info": {
   "codemirror_mode": {
    "name": "ipython",
    "version": 3
   },
   "file_extension": ".py",
   "mimetype": "text/x-python",
   "name": "python",
   "nbconvert_exporter": "python",
   "pygments_lexer": "ipython3",
   "version": "3.6.13"
  },
  "orig_nbformat": 4,
  "vscode": {
   "interpreter": {
    "hash": "90a12f8e67e5df9b6d735e7ed43ed7f0cabd8d502959e0b05fb5f457b1896b96"
   }
  }
 },
 "nbformat": 4,
 "nbformat_minor": 2
}
